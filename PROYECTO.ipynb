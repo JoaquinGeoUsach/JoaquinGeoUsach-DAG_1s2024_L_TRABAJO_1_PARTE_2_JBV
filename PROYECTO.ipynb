{
 "cells": [
  {
   "cell_type": "code",
   "execution_count": 1,
   "metadata": {},
   "outputs": [],
   "source": [
    "dirOut = r\"C:\\Users\\juaco\\OneDrive\\Documentos\\ArcGIS\\Packages\\DAG_1s2024_L_TRABAJO_1_PARTE_2_JBV_d59d9f\\p30\\dag_1s2024_l_trabajo_1_parte_2_jbv.gdb\""
   ]
  },
  {
   "cell_type": "code",
   "execution_count": 2,
   "metadata": {
    "scrolled": true
   },
   "outputs": [
    {
     "data": {
      "text/html": [
       "<div class='gpresult'><h2>Messages</h2><div id='messages' data-messages='[\"Start Time: miércoles, 19 de junio de 2024 15:30:56\",\"Succeeded at miércoles, 19 de junio de 2024 15:30:57 (Elapsed Time: 1.57 seconds)\"]' data-show='true'><div id = 'default' /></div></div>"
      ],
      "text/plain": [
       "<geoprocessing server result object object at 0x00000238A6E68C30>"
      ]
     },
     "execution_count": 2,
     "metadata": {},
     "output_type": "execute_result"
    }
   ],
   "source": [
    "#Ordenar ALTURAS PROMEDIO DEL DEM A TABLAS POR MANZANAS\n",
    "fcIn = \"IND_RIESGO_MANZ_CODE\"\n",
    "zone_field = \"MANZENT_I\"\n",
    "raster_value = \"DEM_CONURBA\"\n",
    "outName = \"DEM_MANZANAS_CODE\"\n",
    "fcOut = f\"{dirOut}\\{outName}\"\n",
    "\n",
    "arcpy.ia.ZonalStatisticsAsTable(fcIn, zone_field, raster_value, fcOut, statistics_type=\"MEAN\")\n"
   ]
  },
  {
   "cell_type": "code",
   "execution_count": 1,
   "metadata": {},
   "outputs": [
    {
     "data": {
      "text/html": [
       "<div class='gpresult'><h2>Messages</h2><div id='messages' data-messages='[\"Start Time: miércoles, 19 de junio de 2024 16:12:11\",\"Succeeded at miércoles, 19 de junio de 2024 16:12:15 (Elapsed Time: 3.77 seconds)\"]' data-show='true'><div id = 'default' /></div></div>"
      ],
      "text/plain": [
       "<Result 'IND_RIESGO_MANZ_CODE'>"
      ]
     },
     "execution_count": 1,
     "metadata": {},
     "output_type": "execute_result"
    }
   ],
   "source": [
    "arcpy.management.JoinField(\n",
    "    in_data=\"IND_RIESGO_MANZ_CODE\",\n",
    "    in_field=\"MANZENT_I\",\n",
    "    join_table=\"DEM_MANZANAS_CODE\",\n",
    "    join_field=\"MANZENT_I\",\n",
    "    fields=\"MEAN\",\n",
    "    fm_option=\"NOT_USE_FM\",\n",
    "    field_mapping=None\n",
    ")\n",
    "\n",
    "\n",
    "#Ordenar OBTENCIÓN DE ALTURAS DEM PROMEDIO POR MANZANAS\n",
    "#fcIn2 = \"IND_RIESGO_MANZ_CODE\"\n",
    "\n",
    "#arcpy.management.AddJoin(fcIn2, zone_field, outName, zone_field)\n"
   ]
  },
  {
   "cell_type": "code",
   "execution_count": 4,
   "metadata": {},
   "outputs": [
    {
     "data": {
      "text/html": [
       "<div class='gpresult'><h2>Messages</h2><div id='messages' data-messages='[\"Start Time: miércoles, 19 de junio de 2024 15:31:01\",\"Succeeded at miércoles, 19 de junio de 2024 15:31:03 (Elapsed Time: 2.50 seconds)\"]' data-show='true'><div id = 'default' /></div></div>"
      ],
      "text/plain": [
       "<Result 'C:\\\\Users\\\\juaco\\\\OneDrive\\\\Documentos\\\\ArcGIS\\\\Packages\\\\DAG_1s2024_L_TRABAJO_1_PARTE_2_JBV_d59d9f\\\\p30\\\\dag_1s2024_l_trabajo_1_parte_2_jbv.gdb\\\\CAPAS_RESULTADOS\\\\EST_SALUD_EDU_CODE'>"
      ]
     },
     "execution_count": 4,
     "metadata": {},
     "output_type": "execute_result"
    }
   ],
   "source": [
    "#Ordenar UNIÓN DE ESTABLECIMIENTOS DE SALUD Y EDUCACIÓN EN UNA SOLA CAPA\n",
    "fcIn3 = \"EST_SALUD_CONURB;EST_EDU_CONURB\"\n",
    "outName = \"EST_SALUD_EDU_CODE\"\n",
    "fcOut = f\"{dirOut}\\CAPAS_RESULTADOS\\{outName}\"\n",
    "\n",
    "arcpy.management.Merge(fcIn3, fcOut)\n"
   ]
  },
  {
   "cell_type": "code",
   "execution_count": 9,
   "metadata": {},
   "outputs": [
    {
     "data": {
      "text/html": [
       "<div class='gpresult'><h2>Messages</h2><div id='messages' data-messages='[\"Start Time: martes, 18 de junio de 2024 21:53:18\",\"Succeeded at martes, 18 de junio de 2024 21:53:21 (Elapsed Time: 3.12 seconds)\"]' data-show='true'><div id = 'default' /></div></div>"
      ],
      "text/plain": [
       "<Result 'C:\\\\Users\\\\juaco\\\\OneDrive\\\\Documentos\\\\ArcGIS\\\\Packages\\\\DAG_1s2024_L_TRABAJO_1_PARTE_2_JBV_d59d9f\\\\p30\\\\dag_1s2024_l_trabajo_1_parte_2_jbv.gdb\\\\CAPAS_RESULTADOS\\\\IND_RIESGO_MANZ_CODE_1'>"
      ]
     },
     "execution_count": 9,
     "metadata": {},
     "output_type": "execute_result"
    }
   ],
   "source": [
    "#Ordenar CALCULAR CANTIDAD DE ESTABLECIMIENTOS DE SALUD Y EDUCACIÓN HAY POR MANZANA (JOIN_COUNT)\n",
    "fcIn4 = \"IND_RIESGO_MANZ_CODE\"\n",
    "join_features = \"EST_SALUD_EDU_CODE\"\n",
    "outName = \"IND_RIESGO_MANZ_CODE_1\"\n",
    "fcOut = f\"{dirOut}\\CAPAS_RESULTADOS\\{outName}\"\n",
    "\n",
    "arcpy.analysis.SpatialJoin(fcIn4, join_features, fcOut)\n"
   ]
  },
  {
   "cell_type": "code",
   "execution_count": 10,
   "metadata": {},
   "outputs": [
    {
     "data": {
      "text/html": [
       "<div class='gpresult'><h2>Messages</h2><div id='messages' data-messages='[\"Start Time: martes, 18 de junio de 2024 21:53:23\",\"Adding DENS_POB_MANZ to IND_RIESGO_MANZ_CODE_1...\",\"Succeeded at martes, 18 de junio de 2024 21:53:25 (Elapsed Time: 2.01 seconds)\"]' data-show='true'><div id = 'default' /></div></div>"
      ],
      "text/plain": [
       "<Result 'IND_RIESGO_MANZ_CODE_1'>"
      ]
     },
     "execution_count": 10,
     "metadata": {},
     "output_type": "execute_result"
    }
   ],
   "source": [
    "#Ordenar CREACIÓN DEL CAMPO DE DENSIDAD POBLACIONAL POR MANZANA\n",
    "fcIn5 = \"IND_RIESGO_MANZ_CODE_1\"\n",
    "nombre_campo = \"DENS_POB_MANZ\"\n",
    "formula = \"!TOTAL_PERS! / !AREA!\"\n",
    "\n",
    "arcpy.management.CalculateField(fcIn5, nombre_campo, formula, field_type=\"DOUBLE\")"
   ]
  },
  {
   "cell_type": "code",
   "execution_count": 11,
   "metadata": {},
   "outputs": [
    {
     "data": {
      "text/html": [
       "<div class='gpresult'><h2>Messages</h2><div id='messages' data-messages='[\"Start Time: martes, 18 de junio de 2024 21:53:35\",\"Determining data processing extents...\",\"Adding DIST_RH_FID to IND_RIESGO_MANZ_CODE_1...\",\"Adding DIST_RH to IND_RIESGO_MANZ_CODE_1...\",\"Building a neighborhood index from the Near Features...\",\"Generating Near Table...\",\"Found 5081 feature(s)\",\"Succeeded at martes, 18 de junio de 2024 21:53:39 (Elapsed Time: 4.77 seconds)\"]' data-show='true'><div id = 'default' /></div></div>"
      ],
      "text/plain": [
       "<Result 'IND_RIESGO_MANZ_CODE_1'>"
      ]
     },
     "execution_count": 11,
     "metadata": {},
     "output_type": "execute_result"
    }
   ],
   "source": [
    "fcIn6 = \"IND_RIESGO_MANZ_CODE_1\"\n",
    "arcpy.analysis.Near(\n",
    "    fcIn6,\n",
    "    near_features=\"BORDECOSTERO\",\n",
    "    field_names=\"NEAR_FID DIST_BC_FID;NEAR_DIST DIST_BC\",\n",
    "    distance_unit=\"Meters\"\n",
    ")\n",
    "\n",
    "arcpy.analysis.Near(\n",
    "    fcIn6,\n",
    "    near_features=\"VIASMAR_FINAL\",\n",
    "    field_names=\"NEAR_FID DIST_VM_FID;NEAR_DIST DIST_VM\",\n",
    "    distance_unit=\"Meters\"\n",
    ")\n",
    "\n",
    "arcpy.analysis.Near(\n",
    "    fcIn6,\n",
    "    near_features=\"RED_HIDRO_CONURB\",\n",
    "    field_names=\"NEAR_FID DIST_RH_FID;NEAR_DIST DIST_RH\",\n",
    "    distance_unit=\"Meters\"\n",
    ")\n"
   ]
  },
  {
   "cell_type": "code",
   "execution_count": 12,
   "metadata": {},
   "outputs": [
    {
     "data": {
      "text/html": [
       "<div class='gpresult'><h2>Messages</h2><div id='messages' data-messages='[\"Start Time: martes, 18 de junio de 2024 21:58:46\",\"Succeeded at martes, 18 de junio de 2024 21:58:46 (Elapsed Time: 0.19 seconds)\"]' data-show='true'><div id = 'default' /></div></div>"
      ],
      "text/plain": [
       "<Result 'IND_RIESGO_MANZ_CODE_1'>"
      ]
     },
     "execution_count": 12,
     "metadata": {},
     "output_type": "execute_result"
    }
   ],
   "source": [
    "#Ordenar ELIMINACIÓN DE 0 DEL CAMPO DE DISTANCIAS A LAS VIAS QUE CONECTAN AL BORDE COSTERO\n",
    "arcpy.management.SelectLayerByAttribute(\n",
    "    fcIn6,\n",
    "    selection_type=\"NEW_SELECTION\",\n",
    "    where_clause=\"DIST_VM = 0\",\n",
    "    invert_where_clause=None\n",
    ")\n",
    "\n",
    "arcpy.management.CalculateField(\n",
    "    fcIn6,\n",
    "    field=\"DIST_VM\",\n",
    "    expression=\"0.01\",\n",
    ")\n",
    "\n",
    "arcpy.management.SelectLayerByAttribute(fcIn6, \"CLEAR_SELECTION\")"
   ]
  },
  {
   "cell_type": "code",
   "execution_count": 27,
   "metadata": {},
   "outputs": [
    {
     "data": {
      "text/html": [
       "<div class='gpresult'><h2>Messages</h2><div id='messages' data-messages='[\"Start Time: martes, 18 de junio de 2024 2:18:08\",\"Succeeded at martes, 18 de junio de 2024 2:18:09 (Elapsed Time: 1.38 seconds)\"]' data-show='true'><div id = 'default' /></div></div>"
      ],
      "text/plain": [
       "<Result 'IND_RIESGO_MANZ_CODE_1'>"
      ]
     },
     "execution_count": 27,
     "metadata": {},
     "output_type": "execute_result"
    }
   ],
   "source": [
    "#Ordenar CREACIÓN DEL CAMPO DEL ÍNDICE DE RIESGO DE INUNDACIÓN POR AUMENTO DE NIVEL DEL MAR POR MANZANA\n",
    "nombre_campo = \"IND_RIESGO\"\n",
    "formula2 = \"((0.2 * 1 / !MEAN!) + (0.1 * !DENS_POB_MANZ!) + (0.1 * 1 / (!DIST_VM! + 0.01)) + (0.1 * !Join_Count!) + (0.1 * !DIST_RH!) + (0.4 * !DIST_BC!))/(1000 * 3.772302)\"\n",
    "\n",
    "arcpy.management.CalculateField(fcIn6, nombre_campo, formula2, field_type=\"DOUBLE\")"
   ]
  },
  {
   "cell_type": "code",
   "execution_count": null,
   "metadata": {},
   "outputs": [],
   "source": []
  }
 ],
 "metadata": {
  "kernelspec": {
   "display_name": "ArcGISPro",
   "language": "Python",
   "name": "python3"
  },
  "language_info": {
   "file_extension": ".py",
   "name": "python",
   "version": "3"
  }
 },
 "nbformat": 4,
 "nbformat_minor": 2
}
